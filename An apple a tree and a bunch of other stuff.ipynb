{
 "cells": [
  {
   "cell_type": "markdown",
   "metadata": {},
   "source": [
    "# Word Embeddings"
   ]
  },
  {
   "cell_type": "code",
   "execution_count": 1,
   "metadata": {},
   "outputs": [],
   "source": [
    "import pandas as pd\n",
    "import numpy as np\n",
    "\n",
    "from glove import Glove\n",
    "from sklearn.metrics.pairwise import cosine_similarity"
   ]
  },
  {
   "cell_type": "code",
   "execution_count": 2,
   "metadata": {},
   "outputs": [],
   "source": [
    "embedding_model = Glove.load_stanford('/mnt/ml-team/minerva/pretrained/glove.twitter.27B.50d.txt')"
   ]
  },
  {
   "cell_type": "code",
   "execution_count": 3,
   "metadata": {},
   "outputs": [
    {
     "data": {
      "text/plain": [
       "(1193514, 50)"
      ]
     },
     "execution_count": 3,
     "metadata": {},
     "output_type": "execute_result"
    }
   ],
   "source": [
    "embedding_model.word_vectors.shape"
   ]
  },
  {
   "cell_type": "code",
   "execution_count": 4,
   "metadata": {},
   "outputs": [
    {
     "data": {
      "text/plain": [
       "1881"
      ]
     },
     "execution_count": 4,
     "metadata": {},
     "output_type": "execute_result"
    }
   ],
   "source": [
    "embedding_model.dictionary['apple']"
   ]
  },
  {
   "cell_type": "code",
   "execution_count": 5,
   "metadata": {},
   "outputs": [
    {
     "data": {
      "text/plain": [
       "3341"
      ]
     },
     "execution_count": 5,
     "metadata": {},
     "output_type": "execute_result"
    }
   ],
   "source": [
    "embedding_model.dictionary['tree']"
   ]
  },
  {
   "cell_type": "code",
   "execution_count": 6,
   "metadata": {},
   "outputs": [
    {
     "data": {
      "text/plain": [
       "array([  5.85600000e-01,  -3.69640000e-01,   6.34800000e-02,\n",
       "         8.16750000e-01,   1.80250000e-01,   1.57370000e-01,\n",
       "         4.56830000e-01,   7.10000000e-01,   2.59260000e-02,\n",
       "         1.65250000e+00,   5.22630000e-01,  -7.22200000e-04,\n",
       "        -2.54560000e+00,   1.11840000e-01,  -1.91340000e-01,\n",
       "        -1.11230000e-01,  -2.12640000e-01,   2.00260000e-01,\n",
       "         2.31950000e-01,  -6.98620000e-01,   1.30720000e-01,\n",
       "         2.89150000e-01,  -8.01590000e-01,  -1.79840000e-01,\n",
       "         1.03380000e+00,  -1.11680000e+00,  -2.15190000e-01,\n",
       "        -7.47140000e-02,   7.92850000e-01,  -1.23780000e-01,\n",
       "        -5.74510000e-01,   4.91380000e-01,  -1.30870000e+00,\n",
       "         6.36270000e-01,   3.26560000e-01,   5.14370000e-01,\n",
       "        -2.98680000e-01,  -4.11720000e-02,  -3.52770000e-02,\n",
       "        -7.79260000e-01,  -2.21040000e+00,  -2.89090000e-01,\n",
       "        -8.62570000e-02,   2.36370000e-01,   2.78310000e-01,\n",
       "         2.09150000e-02,  -2.14610000e-01,   5.66560000e-01,\n",
       "        -3.64040000e-01,  -2.52020000e-01])"
      ]
     },
     "execution_count": 6,
     "metadata": {},
     "output_type": "execute_result"
    }
   ],
   "source": [
    "embedding_model.word_vectors[12]"
   ]
  },
  {
   "cell_type": "code",
   "execution_count": 7,
   "metadata": {},
   "outputs": [
    {
     "data": {
      "text/plain": [
       "0.64002566245727655"
      ]
     },
     "execution_count": 7,
     "metadata": {},
     "output_type": "execute_result"
    }
   ],
   "source": [
    "def similarity(glove_instance, word1, word2):\n",
    "        ids = [glove_instance.dictionary[w] for w in [word1, word2]]\n",
    "        vec1, vec2 = [glove_instance.word_vectors[i].reshape(1,-1) for i in ids]\n",
    "        return cosine_similarity(vec1, vec2)[0][0]\n",
    "\n",
    "similarity(embedding_model, 'orange', 'fire')"
   ]
  },
  {
   "cell_type": "code",
   "execution_count": 8,
   "metadata": {},
   "outputs": [
    {
     "data": {
      "text/plain": [
       "[('battle', 0.75805667486763095),\n",
       " ('wars', 0.74856592737144523),\n",
       " ('hunger', 0.74185530217795237),\n",
       " ('death', 0.74021377220782814),\n",
       " ('also', 0.73600199881899764),\n",
       " ('land', 0.72875225468552862),\n",
       " ('of', 0.72164431730084133),\n",
       " ('revolution', 0.71980641113138932),\n",
       " ('an', 0.71426458082296751),\n",
       " ('laden', 0.70881477615975541),\n",
       " ('killing', 0.70314928262776055),\n",
       " ('man', 0.70253268138253688),\n",
       " ('the', 0.69718906040429651),\n",
       " ('halt', 0.69696662375956842),\n",
       " ('will', 0.69588754113263984),\n",
       " ('’s', 0.69125647572506488),\n",
       " ('fallen', 0.68941965526320736),\n",
       " ('attack', 0.68937456389049157),\n",
       " ('chaos', 0.68697709467212231)]"
      ]
     },
     "execution_count": 8,
     "metadata": {},
     "output_type": "execute_result"
    }
   ],
   "source": [
    "embedding_model.most_similar('war', 20)"
   ]
  },
  {
   "cell_type": "code",
   "execution_count": 9,
   "metadata": {},
   "outputs": [],
   "source": [
    "with open('twitter_sentiment/frequency_list.txt','r+') as f:\n",
    "    most_frequent = f.read().lower().split('\\n')\n",
    "interesting = ['apple','tree', 'human', 'child']\n",
    "word_corpus = list(set(list(np.random.choice(most_frequent, 100)) + interesting))"
   ]
  },
  {
   "cell_type": "code",
   "execution_count": 10,
   "metadata": {},
   "outputs": [
    {
     "name": "stderr",
     "output_type": "stream",
     "text": [
      "Using TensorFlow backend.\n"
     ]
    },
    {
     "name": "stdout",
     "output_type": "stream",
     "text": [
      "[t-SNE] Computing 91 nearest neighbors...\n",
      "[t-SNE] Indexed 100 samples in 0.000s...\n",
      "[t-SNE] Computed neighbors for 100 samples in 0.002s...\n",
      "[t-SNE] Computed conditional probabilities for sample 100 / 100\n",
      "[t-SNE] Mean sigma: 1.775393\n",
      "[t-SNE] KL divergence after 250 iterations with early exaggeration: 61.053955\n",
      "[t-SNE] Error after 1000 iterations: 0.522973\n"
     ]
    }
   ],
   "source": [
    "%load_ext autoreload\n",
    "% autoreload 2\n",
    "from unboxer.bokeh_tsne.tsne_vis import TsneText\n",
    "\n",
    "tsne_text = TsneText(embedding_model, verbose=1)\n",
    "tsne_text.fit(word_corpus, highlight_words = interesting)"
   ]
  },
  {
   "cell_type": "code",
   "execution_count": 11,
   "metadata": {},
   "outputs": [
    {
     "data": {
      "text/html": [
       "\n",
       "    <div class=\"bk-root\">\n",
       "        <a href=\"https://bokeh.pydata.org\" target=\"_blank\" class=\"bk-logo bk-logo-small bk-logo-notebook\"></a>\n",
       "        <span id=\"3dc9589b-4ede-4397-b5e2-9f103614afd8\">Loading BokehJS ...</span>\n",
       "    </div>"
      ]
     },
     "metadata": {},
     "output_type": "display_data"
    },
    {
     "data": {
      "application/javascript": [
       "\n",
       "(function(root) {\n",
       "  function now() {\n",
       "    return new Date();\n",
       "  }\n",
       "\n",
       "  var force = true;\n",
       "\n",
       "  if (typeof (root._bokeh_onload_callbacks) === \"undefined\" || force === true) {\n",
       "    root._bokeh_onload_callbacks = [];\n",
       "    root._bokeh_is_loading = undefined;\n",
       "  }\n",
       "\n",
       "  var JS_MIME_TYPE = 'application/javascript';\n",
       "  var HTML_MIME_TYPE = 'text/html';\n",
       "  var EXEC_MIME_TYPE = 'application/vnd.bokehjs_exec.v0+json';\n",
       "  var CLASS_NAME = 'output_bokeh rendered_html';\n",
       "\n",
       "  /**\n",
       "   * Render data to the DOM node\n",
       "   */\n",
       "  function render(props, node) {\n",
       "    var script = document.createElement(\"script\");\n",
       "    node.appendChild(script);\n",
       "  }\n",
       "\n",
       "  /**\n",
       "   * Handle when an output is cleared or removed\n",
       "   */\n",
       "  function handleClearOutput(event, handle) {\n",
       "    var cell = handle.cell;\n",
       "\n",
       "    var id = cell.output_area._bokeh_element_id;\n",
       "    var server_id = cell.output_area._bokeh_server_id;\n",
       "    // Clean up Bokeh references\n",
       "    if (id !== undefined) {\n",
       "      Bokeh.index[id].model.document.clear();\n",
       "      delete Bokeh.index[id];\n",
       "    }\n",
       "\n",
       "    if (server_id !== undefined) {\n",
       "      // Clean up Bokeh references\n",
       "      var cmd = \"from bokeh.io.state import curstate; print(curstate().uuid_to_server['\" + server_id + \"'].get_sessions()[0].document.roots[0]._id)\";\n",
       "      cell.notebook.kernel.execute(cmd, {\n",
       "        iopub: {\n",
       "          output: function(msg) {\n",
       "            var element_id = msg.content.text.trim();\n",
       "            Bokeh.index[element_id].model.document.clear();\n",
       "            delete Bokeh.index[element_id];\n",
       "          }\n",
       "        }\n",
       "      });\n",
       "      // Destroy server and session\n",
       "      var cmd = \"import bokeh.io.notebook as ion; ion.destroy_server('\" + server_id + \"')\";\n",
       "      cell.notebook.kernel.execute(cmd);\n",
       "    }\n",
       "  }\n",
       "\n",
       "  /**\n",
       "   * Handle when a new output is added\n",
       "   */\n",
       "  function handleAddOutput(event, handle) {\n",
       "    var output_area = handle.output_area;\n",
       "    var output = handle.output;\n",
       "\n",
       "    // limit handleAddOutput to display_data with EXEC_MIME_TYPE content only\n",
       "    if ((output.output_type != \"display_data\") || (!output.data.hasOwnProperty(EXEC_MIME_TYPE))) {\n",
       "      return\n",
       "    }\n",
       "\n",
       "    var toinsert = output_area.element.find(\".\" + CLASS_NAME.split(' ')[0]);\n",
       "\n",
       "    if (output.metadata[EXEC_MIME_TYPE][\"id\"] !== undefined) {\n",
       "      toinsert[0].firstChild.textContent = output.data[JS_MIME_TYPE];\n",
       "      // store reference to embed id on output_area\n",
       "      output_area._bokeh_element_id = output.metadata[EXEC_MIME_TYPE][\"id\"];\n",
       "    }\n",
       "    if (output.metadata[EXEC_MIME_TYPE][\"server_id\"] !== undefined) {\n",
       "      var bk_div = document.createElement(\"div\");\n",
       "      bk_div.innerHTML = output.data[HTML_MIME_TYPE];\n",
       "      var script_attrs = bk_div.children[0].attributes;\n",
       "      for (var i = 0; i < script_attrs.length; i++) {\n",
       "        toinsert[0].firstChild.setAttribute(script_attrs[i].name, script_attrs[i].value);\n",
       "      }\n",
       "      // store reference to server id on output_area\n",
       "      output_area._bokeh_server_id = output.metadata[EXEC_MIME_TYPE][\"server_id\"];\n",
       "    }\n",
       "  }\n",
       "\n",
       "  function register_renderer(events, OutputArea) {\n",
       "\n",
       "    function append_mime(data, metadata, element) {\n",
       "      // create a DOM node to render to\n",
       "      var toinsert = this.create_output_subarea(\n",
       "        metadata,\n",
       "        CLASS_NAME,\n",
       "        EXEC_MIME_TYPE\n",
       "      );\n",
       "      this.keyboard_manager.register_events(toinsert);\n",
       "      // Render to node\n",
       "      var props = {data: data, metadata: metadata[EXEC_MIME_TYPE]};\n",
       "      render(props, toinsert[0]);\n",
       "      element.append(toinsert);\n",
       "      return toinsert\n",
       "    }\n",
       "\n",
       "    /* Handle when an output is cleared or removed */\n",
       "    events.on('clear_output.CodeCell', handleClearOutput);\n",
       "    events.on('delete.Cell', handleClearOutput);\n",
       "\n",
       "    /* Handle when a new output is added */\n",
       "    events.on('output_added.OutputArea', handleAddOutput);\n",
       "\n",
       "    /**\n",
       "     * Register the mime type and append_mime function with output_area\n",
       "     */\n",
       "    OutputArea.prototype.register_mime_type(EXEC_MIME_TYPE, append_mime, {\n",
       "      /* Is output safe? */\n",
       "      safe: true,\n",
       "      /* Index of renderer in `output_area.display_order` */\n",
       "      index: 0\n",
       "    });\n",
       "  }\n",
       "\n",
       "  // register the mime type if in Jupyter Notebook environment and previously unregistered\n",
       "  if (root.Jupyter !== undefined) {\n",
       "    var events = require('base/js/events');\n",
       "    var OutputArea = require('notebook/js/outputarea').OutputArea;\n",
       "\n",
       "    if (OutputArea.prototype.mime_types().indexOf(EXEC_MIME_TYPE) == -1) {\n",
       "      register_renderer(events, OutputArea);\n",
       "    }\n",
       "  }\n",
       "\n",
       "  \n",
       "  if (typeof (root._bokeh_timeout) === \"undefined\" || force === true) {\n",
       "    root._bokeh_timeout = Date.now() + 5000;\n",
       "    root._bokeh_failed_load = false;\n",
       "  }\n",
       "\n",
       "  var NB_LOAD_WARNING = {'data': {'text/html':\n",
       "     \"<div style='background-color: #fdd'>\\n\"+\n",
       "     \"<p>\\n\"+\n",
       "     \"BokehJS does not appear to have successfully loaded. If loading BokehJS from CDN, this \\n\"+\n",
       "     \"may be due to a slow or bad network connection. Possible fixes:\\n\"+\n",
       "     \"</p>\\n\"+\n",
       "     \"<ul>\\n\"+\n",
       "     \"<li>re-rerun `output_notebook()` to attempt to load from CDN again, or</li>\\n\"+\n",
       "     \"<li>use INLINE resources instead, as so:</li>\\n\"+\n",
       "     \"</ul>\\n\"+\n",
       "     \"<code>\\n\"+\n",
       "     \"from bokeh.resources import INLINE\\n\"+\n",
       "     \"output_notebook(resources=INLINE)\\n\"+\n",
       "     \"</code>\\n\"+\n",
       "     \"</div>\"}};\n",
       "\n",
       "  function display_loaded() {\n",
       "    var el = document.getElementById(\"3dc9589b-4ede-4397-b5e2-9f103614afd8\");\n",
       "    if (el != null) {\n",
       "      el.textContent = \"BokehJS is loading...\";\n",
       "    }\n",
       "    if (root.Bokeh !== undefined) {\n",
       "      if (el != null) {\n",
       "        el.textContent = \"BokehJS \" + root.Bokeh.version + \" successfully loaded.\";\n",
       "      }\n",
       "    } else if (Date.now() < root._bokeh_timeout) {\n",
       "      setTimeout(display_loaded, 100)\n",
       "    }\n",
       "  }\n",
       "\n",
       "\n",
       "  function run_callbacks() {\n",
       "    try {\n",
       "      root._bokeh_onload_callbacks.forEach(function(callback) { callback() });\n",
       "    }\n",
       "    finally {\n",
       "      delete root._bokeh_onload_callbacks\n",
       "    }\n",
       "    console.info(\"Bokeh: all callbacks have finished\");\n",
       "  }\n",
       "\n",
       "  function load_libs(js_urls, callback) {\n",
       "    root._bokeh_onload_callbacks.push(callback);\n",
       "    if (root._bokeh_is_loading > 0) {\n",
       "      console.log(\"Bokeh: BokehJS is being loaded, scheduling callback at\", now());\n",
       "      return null;\n",
       "    }\n",
       "    if (js_urls == null || js_urls.length === 0) {\n",
       "      run_callbacks();\n",
       "      return null;\n",
       "    }\n",
       "    console.log(\"Bokeh: BokehJS not loaded, scheduling load and callback at\", now());\n",
       "    root._bokeh_is_loading = js_urls.length;\n",
       "    for (var i = 0; i < js_urls.length; i++) {\n",
       "      var url = js_urls[i];\n",
       "      var s = document.createElement('script');\n",
       "      s.src = url;\n",
       "      s.async = false;\n",
       "      s.onreadystatechange = s.onload = function() {\n",
       "        root._bokeh_is_loading--;\n",
       "        if (root._bokeh_is_loading === 0) {\n",
       "          console.log(\"Bokeh: all BokehJS libraries loaded\");\n",
       "          run_callbacks()\n",
       "        }\n",
       "      };\n",
       "      s.onerror = function() {\n",
       "        console.warn(\"failed to load library \" + url);\n",
       "      };\n",
       "      console.log(\"Bokeh: injecting script tag for BokehJS library: \", url);\n",
       "      document.getElementsByTagName(\"head\")[0].appendChild(s);\n",
       "    }\n",
       "  };var element = document.getElementById(\"3dc9589b-4ede-4397-b5e2-9f103614afd8\");\n",
       "  if (element == null) {\n",
       "    console.log(\"Bokeh: ERROR: autoload.js configured with elementid '3dc9589b-4ede-4397-b5e2-9f103614afd8' but no matching script tag was found. \")\n",
       "    return false;\n",
       "  }\n",
       "\n",
       "  var js_urls = [\"https://cdn.pydata.org/bokeh/release/bokeh-0.12.13.min.js\", \"https://cdn.pydata.org/bokeh/release/bokeh-widgets-0.12.13.min.js\", \"https://cdn.pydata.org/bokeh/release/bokeh-tables-0.12.13.min.js\", \"https://cdn.pydata.org/bokeh/release/bokeh-gl-0.12.13.min.js\"];\n",
       "\n",
       "  var inline_js = [\n",
       "    function(Bokeh) {\n",
       "      Bokeh.set_log_level(\"info\");\n",
       "    },\n",
       "    \n",
       "    function(Bokeh) {\n",
       "      \n",
       "    },\n",
       "    function(Bokeh) {\n",
       "      console.log(\"Bokeh: injecting CSS: https://cdn.pydata.org/bokeh/release/bokeh-0.12.13.min.css\");\n",
       "      Bokeh.embed.inject_css(\"https://cdn.pydata.org/bokeh/release/bokeh-0.12.13.min.css\");\n",
       "      console.log(\"Bokeh: injecting CSS: https://cdn.pydata.org/bokeh/release/bokeh-widgets-0.12.13.min.css\");\n",
       "      Bokeh.embed.inject_css(\"https://cdn.pydata.org/bokeh/release/bokeh-widgets-0.12.13.min.css\");\n",
       "      console.log(\"Bokeh: injecting CSS: https://cdn.pydata.org/bokeh/release/bokeh-tables-0.12.13.min.css\");\n",
       "      Bokeh.embed.inject_css(\"https://cdn.pydata.org/bokeh/release/bokeh-tables-0.12.13.min.css\");\n",
       "    }\n",
       "  ];\n",
       "\n",
       "  function run_inline_js() {\n",
       "    \n",
       "    if ((root.Bokeh !== undefined) || (force === true)) {\n",
       "      for (var i = 0; i < inline_js.length; i++) {\n",
       "        inline_js[i].call(root, root.Bokeh);\n",
       "      }if (force === true) {\n",
       "        display_loaded();\n",
       "      }} else if (Date.now() < root._bokeh_timeout) {\n",
       "      setTimeout(run_inline_js, 100);\n",
       "    } else if (!root._bokeh_failed_load) {\n",
       "      console.log(\"Bokeh: BokehJS failed to load within specified timeout.\");\n",
       "      root._bokeh_failed_load = true;\n",
       "    } else if (force !== true) {\n",
       "      var cell = $(document.getElementById(\"3dc9589b-4ede-4397-b5e2-9f103614afd8\")).parents('.cell').data().cell;\n",
       "      cell.output_area.append_execute_result(NB_LOAD_WARNING)\n",
       "    }\n",
       "\n",
       "  }\n",
       "\n",
       "  if (root._bokeh_is_loading === 0) {\n",
       "    console.log(\"Bokeh: BokehJS loaded, going straight to plotting\");\n",
       "    run_inline_js();\n",
       "  } else {\n",
       "    load_libs(js_urls, function() {\n",
       "      console.log(\"Bokeh: BokehJS plotting callback run at\", now());\n",
       "      run_inline_js();\n",
       "    });\n",
       "  }\n",
       "}(window));"
      ],
      "application/vnd.bokehjs_load.v0+json": "\n(function(root) {\n  function now() {\n    return new Date();\n  }\n\n  var force = true;\n\n  if (typeof (root._bokeh_onload_callbacks) === \"undefined\" || force === true) {\n    root._bokeh_onload_callbacks = [];\n    root._bokeh_is_loading = undefined;\n  }\n\n  \n\n  \n  if (typeof (root._bokeh_timeout) === \"undefined\" || force === true) {\n    root._bokeh_timeout = Date.now() + 5000;\n    root._bokeh_failed_load = false;\n  }\n\n  var NB_LOAD_WARNING = {'data': {'text/html':\n     \"<div style='background-color: #fdd'>\\n\"+\n     \"<p>\\n\"+\n     \"BokehJS does not appear to have successfully loaded. If loading BokehJS from CDN, this \\n\"+\n     \"may be due to a slow or bad network connection. Possible fixes:\\n\"+\n     \"</p>\\n\"+\n     \"<ul>\\n\"+\n     \"<li>re-rerun `output_notebook()` to attempt to load from CDN again, or</li>\\n\"+\n     \"<li>use INLINE resources instead, as so:</li>\\n\"+\n     \"</ul>\\n\"+\n     \"<code>\\n\"+\n     \"from bokeh.resources import INLINE\\n\"+\n     \"output_notebook(resources=INLINE)\\n\"+\n     \"</code>\\n\"+\n     \"</div>\"}};\n\n  function display_loaded() {\n    var el = document.getElementById(\"3dc9589b-4ede-4397-b5e2-9f103614afd8\");\n    if (el != null) {\n      el.textContent = \"BokehJS is loading...\";\n    }\n    if (root.Bokeh !== undefined) {\n      if (el != null) {\n        el.textContent = \"BokehJS \" + root.Bokeh.version + \" successfully loaded.\";\n      }\n    } else if (Date.now() < root._bokeh_timeout) {\n      setTimeout(display_loaded, 100)\n    }\n  }\n\n\n  function run_callbacks() {\n    try {\n      root._bokeh_onload_callbacks.forEach(function(callback) { callback() });\n    }\n    finally {\n      delete root._bokeh_onload_callbacks\n    }\n    console.info(\"Bokeh: all callbacks have finished\");\n  }\n\n  function load_libs(js_urls, callback) {\n    root._bokeh_onload_callbacks.push(callback);\n    if (root._bokeh_is_loading > 0) {\n      console.log(\"Bokeh: BokehJS is being loaded, scheduling callback at\", now());\n      return null;\n    }\n    if (js_urls == null || js_urls.length === 0) {\n      run_callbacks();\n      return null;\n    }\n    console.log(\"Bokeh: BokehJS not loaded, scheduling load and callback at\", now());\n    root._bokeh_is_loading = js_urls.length;\n    for (var i = 0; i < js_urls.length; i++) {\n      var url = js_urls[i];\n      var s = document.createElement('script');\n      s.src = url;\n      s.async = false;\n      s.onreadystatechange = s.onload = function() {\n        root._bokeh_is_loading--;\n        if (root._bokeh_is_loading === 0) {\n          console.log(\"Bokeh: all BokehJS libraries loaded\");\n          run_callbacks()\n        }\n      };\n      s.onerror = function() {\n        console.warn(\"failed to load library \" + url);\n      };\n      console.log(\"Bokeh: injecting script tag for BokehJS library: \", url);\n      document.getElementsByTagName(\"head\")[0].appendChild(s);\n    }\n  };var element = document.getElementById(\"3dc9589b-4ede-4397-b5e2-9f103614afd8\");\n  if (element == null) {\n    console.log(\"Bokeh: ERROR: autoload.js configured with elementid '3dc9589b-4ede-4397-b5e2-9f103614afd8' but no matching script tag was found. \")\n    return false;\n  }\n\n  var js_urls = [\"https://cdn.pydata.org/bokeh/release/bokeh-0.12.13.min.js\", \"https://cdn.pydata.org/bokeh/release/bokeh-widgets-0.12.13.min.js\", \"https://cdn.pydata.org/bokeh/release/bokeh-tables-0.12.13.min.js\", \"https://cdn.pydata.org/bokeh/release/bokeh-gl-0.12.13.min.js\"];\n\n  var inline_js = [\n    function(Bokeh) {\n      Bokeh.set_log_level(\"info\");\n    },\n    \n    function(Bokeh) {\n      \n    },\n    function(Bokeh) {\n      console.log(\"Bokeh: injecting CSS: https://cdn.pydata.org/bokeh/release/bokeh-0.12.13.min.css\");\n      Bokeh.embed.inject_css(\"https://cdn.pydata.org/bokeh/release/bokeh-0.12.13.min.css\");\n      console.log(\"Bokeh: injecting CSS: https://cdn.pydata.org/bokeh/release/bokeh-widgets-0.12.13.min.css\");\n      Bokeh.embed.inject_css(\"https://cdn.pydata.org/bokeh/release/bokeh-widgets-0.12.13.min.css\");\n      console.log(\"Bokeh: injecting CSS: https://cdn.pydata.org/bokeh/release/bokeh-tables-0.12.13.min.css\");\n      Bokeh.embed.inject_css(\"https://cdn.pydata.org/bokeh/release/bokeh-tables-0.12.13.min.css\");\n    }\n  ];\n\n  function run_inline_js() {\n    \n    if ((root.Bokeh !== undefined) || (force === true)) {\n      for (var i = 0; i < inline_js.length; i++) {\n        inline_js[i].call(root, root.Bokeh);\n      }if (force === true) {\n        display_loaded();\n      }} else if (Date.now() < root._bokeh_timeout) {\n      setTimeout(run_inline_js, 100);\n    } else if (!root._bokeh_failed_load) {\n      console.log(\"Bokeh: BokehJS failed to load within specified timeout.\");\n      root._bokeh_failed_load = true;\n    } else if (force !== true) {\n      var cell = $(document.getElementById(\"3dc9589b-4ede-4397-b5e2-9f103614afd8\")).parents('.cell').data().cell;\n      cell.output_area.append_execute_result(NB_LOAD_WARNING)\n    }\n\n  }\n\n  if (root._bokeh_is_loading === 0) {\n    console.log(\"Bokeh: BokehJS loaded, going straight to plotting\");\n    run_inline_js();\n  } else {\n    load_libs(js_urls, function() {\n      console.log(\"Bokeh: BokehJS plotting callback run at\", now());\n      run_inline_js();\n    });\n  }\n}(window));"
     },
     "metadata": {},
     "output_type": "display_data"
    },
    {
     "data": {
      "text/html": [
       "\n",
       "<div class=\"bk-root\">\n",
       "    <div class=\"bk-plotdiv\" id=\"d1cab4cd-5a6a-4f0c-aa41-77278d8a5c1d\"></div>\n",
       "</div>"
      ]
     },
     "metadata": {},
     "output_type": "display_data"
    },
    {
     "data": {
      "application/javascript": [
       "(function(root) {\n",
       "  function embed_document(root) {\n",
       "    \n",
       "  var docs_json = {\"4f5d4feb-d0ad-4d01-8dc1-ff6dbe18c95a\":{\"roots\":{\"references\":[{\"attributes\":{\"dimension\":1,\"plot\":{\"id\":\"9709c6b8-b68e-48a5-8544-50699399b1e7\",\"subtype\":\"Figure\",\"type\":\"Plot\"},\"ticker\":{\"id\":\"972e2020-b754-4f89-98f7-29f2b26e7ed5\",\"type\":\"BasicTicker\"}},\"id\":\"d3d2d0b0-6a08-414c-94bf-90afb56ad29c\",\"type\":\"Grid\"},{\"attributes\":{\"callback\":null,\"tooltips\":\"\\n        <div>\\n            <div>\\n                <p>\\n                    @text\\n                </p>\\n            </div>            \\n        </div>\\n        \"},\"id\":\"a545c507-544e-48a8-8a5a-3522e5892fb1\",\"type\":\"HoverTool\"},{\"attributes\":{\"fill_alpha\":{\"value\":0.1},\"fill_color\":{\"value\":\"#1f77b4\"},\"line_alpha\":{\"value\":0.1},\"line_color\":{\"value\":\"#1f77b4\"},\"size\":{\"units\":\"screen\",\"value\":10},\"x\":{\"field\":\"x\"},\"y\":{\"field\":\"y\"}},\"id\":\"e6b3d310-c0d8-4281-8465-89ff14ffde1b\",\"type\":\"Circle\"},{\"attributes\":{\"active_drag\":\"auto\",\"active_inspect\":\"auto\",\"active_scroll\":\"auto\",\"active_tap\":\"auto\",\"tools\":[{\"id\":\"842c239e-1c25-4995-867e-53e7d04a4ebe\",\"type\":\"PanTool\"},{\"id\":\"18f63594-7682-447a-abb7-7eb4df274756\",\"type\":\"BoxZoomTool\"},{\"id\":\"8fd603cc-5ce7-4b12-95cb-3f4491896ed4\",\"type\":\"WheelZoomTool\"},{\"id\":\"76cbc24d-7886-4294-a72f-dad03370e68f\",\"type\":\"ResetTool\"},{\"id\":\"a545c507-544e-48a8-8a5a-3522e5892fb1\",\"type\":\"HoverTool\"}]},\"id\":\"5bd6f825-acf4-43e5-8409-e16773ef71b5\",\"type\":\"Toolbar\"},{\"attributes\":{\"callback\":null,\"column_names\":[\"x\",\"y\",\"text\",\"index\",\"label_color\",\"label\"],\"data\":{\"index\":[8,99,31,44,24,21,66,1,54,2,97,56,29,75,55,69,73,77,15,81,82,33,37,87,46,36,86,22,58,27,89,76,34,47,51,35,7,98,5,42,62,90,59,78,39,49,6,26,96,3,41,52,18,93,9,19,63,25,91,71,64,14,10,11,40,94,79,61,12,23,72,57,13,83,45,43,84,20,32,28,68,30,80,70,88,50,74,53,16,85,67,17,4,38,65,48,95,92,0,60],\"label\":[0,0,0,0,0,1,0,0,0,0,0,0,0,0,0,0,0,0,0,1,0,0,0,0,0,0,0,0,0,0,0,0,0,0,0,0,0,0,0,0,0,1,0,0,0,0,0,0,0,0,0,0,0,0,0,0,0,0,0,0,0,0,0,0,0,0,0,0,0,0,0,0,0,0,0,0,0,0,0,0,0,0,0,0,0,0,0,0,0,0,0,1,0,0,0,0,0,0,0,0],\"label_color\":[\"#66c2a5\",\"#66c2a5\",\"#66c2a5\",\"#66c2a5\",\"#66c2a5\",\"#fc8d62\",\"#66c2a5\",\"#66c2a5\",\"#66c2a5\",\"#66c2a5\",\"#66c2a5\",\"#66c2a5\",\"#66c2a5\",\"#66c2a5\",\"#66c2a5\",\"#66c2a5\",\"#66c2a5\",\"#66c2a5\",\"#66c2a5\",\"#fc8d62\",\"#66c2a5\",\"#66c2a5\",\"#66c2a5\",\"#66c2a5\",\"#66c2a5\",\"#66c2a5\",\"#66c2a5\",\"#66c2a5\",\"#66c2a5\",\"#66c2a5\",\"#66c2a5\",\"#66c2a5\",\"#66c2a5\",\"#66c2a5\",\"#66c2a5\",\"#66c2a5\",\"#66c2a5\",\"#66c2a5\",\"#66c2a5\",\"#66c2a5\",\"#66c2a5\",\"#fc8d62\",\"#66c2a5\",\"#66c2a5\",\"#66c2a5\",\"#66c2a5\",\"#66c2a5\",\"#66c2a5\",\"#66c2a5\",\"#66c2a5\",\"#66c2a5\",\"#66c2a5\",\"#66c2a5\",\"#66c2a5\",\"#66c2a5\",\"#66c2a5\",\"#66c2a5\",\"#66c2a5\",\"#66c2a5\",\"#66c2a5\",\"#66c2a5\",\"#66c2a5\",\"#66c2a5\",\"#66c2a5\",\"#66c2a5\",\"#66c2a5\",\"#66c2a5\",\"#66c2a5\",\"#66c2a5\",\"#66c2a5\",\"#66c2a5\",\"#66c2a5\",\"#66c2a5\",\"#66c2a5\",\"#66c2a5\",\"#66c2a5\",\"#66c2a5\",\"#66c2a5\",\"#66c2a5\",\"#66c2a5\",\"#66c2a5\",\"#66c2a5\",\"#66c2a5\",\"#66c2a5\",\"#66c2a5\",\"#66c2a5\",\"#66c2a5\",\"#66c2a5\",\"#66c2a5\",\"#66c2a5\",\"#66c2a5\",\"#fc8d62\",\"#66c2a5\",\"#66c2a5\",\"#66c2a5\",\"#66c2a5\",\"#66c2a5\",\"#66c2a5\",\"#66c2a5\",\"#66c2a5\"],\"text\":[\"admit\",\"affect\",\"allow\",\"also\",\"among\",\"apple\",\"approach\",\"art\",\"ask\",\"bank\",\"before\",\"begin\",\"beyond\",\"black\",\"both\",\"buy\",\"card\",\"charge\",\"check\",\"child\",\"citizen\",\"coach\",\"congress\",\"deal\",\"debate\",\"describe\",\"develop\",\"doctor\",\"easy\",\"edge\",\"especially\",\"everything\",\"example\",\"feel\",\"finger\",\"foreign\",\"guess\",\"hand\",\"hang\",\"history\",\"how\",\"human\",\"if\",\"imagine\",\"indicate\",\"institution\",\"its\",\"keep\",\"kitchen\",\"little\",\"long\",\"low\",\"memory\",\"middle\",\"moment\",\"move\",\"my\",\"nature\",\"number\",\"offer\",\"oh\",\"owner\",\"partner\",\"party\",\"physical\",\"piece\",\"plan\",\"poor\",\"possible\",\"present\",\"pressure\",\"protect\",\"real\",\"reduce\",\"return\",\"series\",\"serve\",\"seven\",\"similar\",\"some\",\"son\",\"speech\",\"stand\",\"state\",\"statement\",\"stay\",\"structure\",\"term\",\"through\",\"tonight\",\"town\",\"tree\",\"true\",\"very\",\"whatever\",\"where\",\"whom\",\"why\",\"would\",\"year\"],\"x\":{\"__ndarray__\":\"/xw2wEciisBkCWTAi2iCv9vEasAVc3w/ZUuPwMeSIEBaIYS/EMeyvj7Djz+ZX4XA6MAMwLYHUECz/g6/RSh1P5gx7D52Ohe/vDrjP1yPJMCmQMLA4q7rv2gh0MBmb6m+dLy0wHDSacDn5ITA8tgOwHXL+b4B2lu+kYOZvxJFi73+z3jA/lgCv8yAlUB2fcvAJpiYPd9vl0AzNQ4/v4S3Pz1Pi7yCb0vABZkYPhGaG8AemazA2sizwLVaAz/A0mI+OMtpQKwShT8wpbc+980lv7k/Br+lcfc/3Yc8wG5JYb63frk/LTZHwCmadD/408m9GlTnvwZ+wL+A7QvAGkonQMKYkMCQBkZA/WOuwHtaCMBC5FXA0qkNwEdNrL9sWVDAd2SSv2e9ZsAnDxe/ogXeP5PyiMAkbSxAext0wFXUlT9jPIFAhnGuwMdp8r6gSUrAmOejwK6hST6EtabAlLmWwHYVzj9EwRlA/mQhQGMfY0Dnz7O/HUW4v3AsDb8BHgM/3Nd0wFb1LL7scQ4+AqC0Pw==\",\"dtype\":\"float32\",\"shape\":[100]},\"y\":{\"__ndarray__\":\"uauWPjVkU8BH5TDAVy/MPzFR5b9+baLAVF4bwFOtA8DTdE5A2yKowKcQMT9+CTlA5nuAvou9DMBhC1k/qH2EwEy5gMCTT2/A/CnSv/vOxL9K3d2/9w6dwJlSnL843YTARCIDP+WNHD+psE/AdQK7v2nIX70YcSTAMfKyPo3+oj9UyZ6/GdWdP4SLN7wuIdq/3yRqPxnNLL6lipe/GIYdwCH5+j99ONC/mSILQBqRFkBzRmbAtpwQwGCnwT+jr/y+ybibv2fgPUAbDM0+YoIwwFsFJ8DNSZy+zj8ZQN0qq79YSRVAPsAQv0G6/L9LO4fA1zkwQGsLk8CR5mDA/IuXPmySOsDNLvW/QpE3P2eEgT/9tck/bhsfwD0cPcBIlzvArj3PvhNmgsBwPYTAlQVCwNV8lcCAFHnA89c/PsZwFkCZ0IbAjdqYvh9kgL9hRcHAx9pZv7U5LL8JARrAOMWXv9exnz/QNkM/AIj2PespiL8sD9k+XJ6iPyPBOD88xKY/lTiZv26j/T9B6B1ALFmxOw==\",\"dtype\":\"float32\",\"shape\":[100]}}},\"id\":\"cfce417c-faec-4abc-ba7c-f52f0466e9db\",\"type\":\"ColumnDataSource\"},{\"attributes\":{\"formatter\":{\"id\":\"f69a7e4d-53c8-4832-962c-7140dd696ff2\",\"type\":\"BasicTickFormatter\"},\"plot\":{\"id\":\"9709c6b8-b68e-48a5-8544-50699399b1e7\",\"subtype\":\"Figure\",\"type\":\"Plot\"},\"ticker\":{\"id\":\"d0d3ce24-7e78-4d44-9950-24688705de01\",\"type\":\"BasicTicker\"}},\"id\":\"a8c8520b-b124-40f3-95d4-d0be49e9fdd8\",\"type\":\"LinearAxis\"},{\"attributes\":{},\"id\":\"76cbc24d-7886-4294-a72f-dad03370e68f\",\"type\":\"ResetTool\"},{\"attributes\":{\"fill_color\":{\"field\":\"label_color\"},\"line_color\":{\"value\":\"#1f77b4\"},\"size\":{\"units\":\"screen\",\"value\":10},\"x\":{\"field\":\"x\"},\"y\":{\"field\":\"y\"}},\"id\":\"b4446dce-566c-40ee-9cb6-079947e7854a\",\"type\":\"Circle\"},{\"attributes\":{},\"id\":\"d0d3ce24-7e78-4d44-9950-24688705de01\",\"type\":\"BasicTicker\"},{\"attributes\":{\"callback\":null},\"id\":\"b2ebf98a-af5a-4969-9b97-6fbc670bb73a\",\"type\":\"DataRange1d\"},{\"attributes\":{},\"id\":\"c9e2540b-a200-4cfd-9310-2c820bc08f88\",\"type\":\"LinearScale\"},{\"attributes\":{},\"id\":\"302c767f-064c-46e7-a7c8-879b3e12ae57\",\"type\":\"LinearScale\"},{\"attributes\":{},\"id\":\"f69a7e4d-53c8-4832-962c-7140dd696ff2\",\"type\":\"BasicTickFormatter\"},{\"attributes\":{\"formatter\":{\"id\":\"1c3cc9d1-4b7b-4fcc-b0be-fc5577e1ac38\",\"type\":\"BasicTickFormatter\"},\"plot\":{\"id\":\"9709c6b8-b68e-48a5-8544-50699399b1e7\",\"subtype\":\"Figure\",\"type\":\"Plot\"},\"ticker\":{\"id\":\"972e2020-b754-4f89-98f7-29f2b26e7ed5\",\"type\":\"BasicTicker\"}},\"id\":\"6c5efd50-aebd-470c-8657-e65ffe76f4b2\",\"type\":\"LinearAxis\"},{\"attributes\":{\"callback\":null},\"id\":\"4b7f7f42-769b-4783-890e-05f60125893c\",\"type\":\"DataRange1d\"},{\"attributes\":{},\"id\":\"972e2020-b754-4f89-98f7-29f2b26e7ed5\",\"type\":\"BasicTicker\"},{\"attributes\":{\"overlay\":{\"id\":\"944a3124-e434-4560-9331-c9a6c0ea553f\",\"type\":\"BoxAnnotation\"}},\"id\":\"18f63594-7682-447a-abb7-7eb4df274756\",\"type\":\"BoxZoomTool\"},{\"attributes\":{\"source\":{\"id\":\"cfce417c-faec-4abc-ba7c-f52f0466e9db\",\"type\":\"ColumnDataSource\"}},\"id\":\"555cb14b-18b7-44cf-9dde-6f433d743a12\",\"type\":\"CDSView\"},{\"attributes\":{},\"id\":\"1c3cc9d1-4b7b-4fcc-b0be-fc5577e1ac38\",\"type\":\"BasicTickFormatter\"},{\"attributes\":{\"bottom_units\":\"screen\",\"fill_alpha\":{\"value\":0.5},\"fill_color\":{\"value\":\"lightgrey\"},\"left_units\":\"screen\",\"level\":\"overlay\",\"line_alpha\":{\"value\":1.0},\"line_color\":{\"value\":\"black\"},\"line_dash\":[4,4],\"line_width\":{\"value\":2},\"plot\":null,\"render_mode\":\"css\",\"right_units\":\"screen\",\"top_units\":\"screen\"},\"id\":\"944a3124-e434-4560-9331-c9a6c0ea553f\",\"type\":\"BoxAnnotation\"},{\"attributes\":{},\"id\":\"8fd603cc-5ce7-4b12-95cb-3f4491896ed4\",\"type\":\"WheelZoomTool\"},{\"attributes\":{\"plot\":null,\"text\":\"\"},\"id\":\"36e20646-1101-4fb4-ab03-310b4e06d861\",\"type\":\"Title\"},{\"attributes\":{\"data_source\":{\"id\":\"cfce417c-faec-4abc-ba7c-f52f0466e9db\",\"type\":\"ColumnDataSource\"},\"glyph\":{\"id\":\"b4446dce-566c-40ee-9cb6-079947e7854a\",\"type\":\"Circle\"},\"hover_glyph\":null,\"muted_glyph\":null,\"nonselection_glyph\":{\"id\":\"e6b3d310-c0d8-4281-8465-89ff14ffde1b\",\"type\":\"Circle\"},\"selection_glyph\":null,\"view\":{\"id\":\"555cb14b-18b7-44cf-9dde-6f433d743a12\",\"type\":\"CDSView\"}},\"id\":\"391bd6d0-5ab2-4e73-b8fe-5f8480cd31ec\",\"type\":\"GlyphRenderer\"},{\"attributes\":{\"below\":[{\"id\":\"a8c8520b-b124-40f3-95d4-d0be49e9fdd8\",\"type\":\"LinearAxis\"}],\"left\":[{\"id\":\"6c5efd50-aebd-470c-8657-e65ffe76f4b2\",\"type\":\"LinearAxis\"}],\"plot_height\":300,\"plot_width\":300,\"renderers\":[{\"id\":\"a8c8520b-b124-40f3-95d4-d0be49e9fdd8\",\"type\":\"LinearAxis\"},{\"id\":\"55c3ee72-2f4d-4c63-9c02-975598ba3888\",\"type\":\"Grid\"},{\"id\":\"6c5efd50-aebd-470c-8657-e65ffe76f4b2\",\"type\":\"LinearAxis\"},{\"id\":\"d3d2d0b0-6a08-414c-94bf-90afb56ad29c\",\"type\":\"Grid\"},{\"id\":\"944a3124-e434-4560-9331-c9a6c0ea553f\",\"type\":\"BoxAnnotation\"},{\"id\":\"391bd6d0-5ab2-4e73-b8fe-5f8480cd31ec\",\"type\":\"GlyphRenderer\"}],\"title\":{\"id\":\"36e20646-1101-4fb4-ab03-310b4e06d861\",\"type\":\"Title\"},\"toolbar\":{\"id\":\"5bd6f825-acf4-43e5-8409-e16773ef71b5\",\"type\":\"Toolbar\"},\"x_range\":{\"id\":\"4b7f7f42-769b-4783-890e-05f60125893c\",\"type\":\"DataRange1d\"},\"x_scale\":{\"id\":\"c9e2540b-a200-4cfd-9310-2c820bc08f88\",\"type\":\"LinearScale\"},\"y_range\":{\"id\":\"b2ebf98a-af5a-4969-9b97-6fbc670bb73a\",\"type\":\"DataRange1d\"},\"y_scale\":{\"id\":\"302c767f-064c-46e7-a7c8-879b3e12ae57\",\"type\":\"LinearScale\"}},\"id\":\"9709c6b8-b68e-48a5-8544-50699399b1e7\",\"subtype\":\"Figure\",\"type\":\"Plot\"},{\"attributes\":{},\"id\":\"842c239e-1c25-4995-867e-53e7d04a4ebe\",\"type\":\"PanTool\"},{\"attributes\":{\"plot\":{\"id\":\"9709c6b8-b68e-48a5-8544-50699399b1e7\",\"subtype\":\"Figure\",\"type\":\"Plot\"},\"ticker\":{\"id\":\"d0d3ce24-7e78-4d44-9950-24688705de01\",\"type\":\"BasicTicker\"}},\"id\":\"55c3ee72-2f4d-4c63-9c02-975598ba3888\",\"type\":\"Grid\"}],\"root_ids\":[\"9709c6b8-b68e-48a5-8544-50699399b1e7\"]},\"title\":\"Bokeh Application\",\"version\":\"0.12.13\"}};\n",
       "  var render_items = [{\"docid\":\"4f5d4feb-d0ad-4d01-8dc1-ff6dbe18c95a\",\"elementid\":\"d1cab4cd-5a6a-4f0c-aa41-77278d8a5c1d\",\"modelid\":\"9709c6b8-b68e-48a5-8544-50699399b1e7\"}];\n",
       "  root.Bokeh.embed.embed_items_notebook(docs_json, render_items);\n",
       "\n",
       "  }\n",
       "  if (root.Bokeh !== undefined) {\n",
       "    embed_document(root);\n",
       "  } else {\n",
       "    var attempts = 0;\n",
       "    var timer = setInterval(function(root) {\n",
       "      if (root.Bokeh !== undefined) {\n",
       "        embed_document(root);\n",
       "        clearInterval(timer);\n",
       "      }\n",
       "      attempts++;\n",
       "      if (attempts > 100) {\n",
       "        console.log(\"Bokeh: ERROR: Unable to run BokehJS code because BokehJS library is missing\")\n",
       "        clearInterval(timer);\n",
       "      }\n",
       "    }, 10, root)\n",
       "  }\n",
       "})(window);"
      ],
      "application/vnd.bokehjs_exec.v0+json": ""
     },
     "metadata": {
      "application/vnd.bokehjs_exec.v0+json": {
       "id": "9709c6b8-b68e-48a5-8544-50699399b1e7"
      }
     },
     "output_type": "display_data"
    }
   ],
   "source": [
    "tsne_text.plot()"
   ]
  },
  {
   "cell_type": "code",
   "execution_count": null,
   "metadata": {},
   "outputs": [],
   "source": []
  }
 ],
 "metadata": {
  "kernelspec": {
   "display_name": "dl_py3",
   "language": "python",
   "name": "dl_py3"
  },
  "language_info": {
   "codemirror_mode": {
    "name": "ipython",
    "version": 3
   },
   "file_extension": ".py",
   "mimetype": "text/x-python",
   "name": "python",
   "nbconvert_exporter": "python",
   "pygments_lexer": "ipython3",
   "version": "3.5.2"
  }
 },
 "nbformat": 4,
 "nbformat_minor": 2
}
