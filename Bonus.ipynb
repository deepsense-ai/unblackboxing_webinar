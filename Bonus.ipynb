{
 "cells": [
  {
   "cell_type": "markdown",
   "metadata": {},
   "source": [
    "# Quiver!"
   ]
  },
  {
   "cell_type": "markdown",
   "metadata": {},
   "source": [
    "ssh -NfL localhost:PORT:localhost:PORT user@host"
   ]
  },
  {
   "cell_type": "markdown",
   "metadata": {},
   "source": [
    "python unboxer/filter_outputs.py --img_folder resources/example_images --port PORT"
   ]
  },
  {
   "cell_type": "markdown",
   "metadata": {},
   "source": [
    "# TSNE meets Bokeh"
   ]
  },
  {
   "cell_type": "code",
   "execution_count": null,
   "metadata": {
    "scrolled": true
   },
   "outputs": [],
   "source": [
    "import os\n",
    "os.environ[\"CUDA_DEVICE_ORDER\"] = \"PCI_BUS_ID\"\n",
    "os.environ[\"CUDA_VISIBLE_DEVICES\"] = \"1\"\n",
    "\n",
    "from keras.models import load_model\n",
    "facenet = load_model('/mnt/ml-team/homes/jakub.czakon/.unblackboxing_webinar_data/models/facenet.h5')    "
   ]
  },
  {
   "cell_type": "code",
   "execution_count": null,
   "metadata": {},
   "outputs": [],
   "source": [
    "TSNE_IMAGES_DIR = 'resources/tsne_images_folder/images'\n",
    "import pandas as pd\n",
    "df = pd.read_csv('/mnt/ml-team/homes/jakub.czakon/.unblackboxing_webinar_data/data/faces/faces.csv')\n",
    "df['img_filepath'] = df['img_filepath']\\\n",
    ".apply(lambda x: x.replace('/mnt/ml-team/homes/jakub.czakon/.unblackboxing_webinar_data/data/faces/images',\n",
    "                           TSNE_IMAGES_DIR))\n",
    "df.head()"
   ]
  },
  {
   "cell_type": "code",
   "execution_count": null,
   "metadata": {},
   "outputs": [],
   "source": [
    "%load_ext autoreload\n",
    "% autoreload 2\n",
    "from unboxer.bokeh_tsne.tsne_vis import TsneVis\n",
    "\n",
    "tsne_vis = TsneVis(facenet, feature_layer_name='fc1', verbose=1)\n",
    "tsne_vis.fit(img_folder=TSNE_IMAGES_DIR,label_df = df, batch_size=32)"
   ]
  },
  {
   "cell_type": "code",
   "execution_count": null,
   "metadata": {},
   "outputs": [],
   "source": [
    "tsne_vis.plot()"
   ]
  },
  {
   "cell_type": "markdown",
   "metadata": {},
   "source": [
    "# Reading\n",
    "https://medium.com/merantix/picasso-a-free-open-source-visualizer-for-cnns-d8ed3a35cfc5\n",
    "https://github.com/fchollet/keras/issues/2067\n",
    "https://github.com/fchollet/keras/issues/2017\n",
    "https://github.com/philipperemy/keras-attention-mechanism\n",
    "https://github.com/philipperemy/keras-attention-mechanism/blob/master/attention_dense.py\n",
    "https://github.com/philipperemy/keras-attention-mechanism/blob/master/attention_lstm.py\n",
    "https://arxiv.org/pdf/1502.03044v3.pdf\n",
    "https://gist.github.com/mbollmann/ccc735366221e4dba9f89d2aab86da1e\n",
    "https://github.com/fchollet/keras/issues/1472\n",
    "https://stackoverflow.com/questions/36812351/keras-attention-layer-over-lstm\n",
    "https://groups.google.com/forum/#!topic/keras-users/suKYo6L1bSI\n"
   ]
  },
  {
   "cell_type": "code",
   "execution_count": null,
   "metadata": {},
   "outputs": [],
   "source": []
  }
 ],
 "metadata": {
  "kernelspec": {
   "display_name": "py2 for deep learning",
   "language": "python",
   "name": "dl_py2"
  },
  "language_info": {
   "codemirror_mode": {
    "name": "ipython",
    "version": 2
   },
   "file_extension": ".py",
   "mimetype": "text/x-python",
   "name": "python",
   "nbconvert_exporter": "python",
   "pygments_lexer": "ipython2",
   "version": "2.7.12"
  }
 },
 "nbformat": 4,
 "nbformat_minor": 2
}
