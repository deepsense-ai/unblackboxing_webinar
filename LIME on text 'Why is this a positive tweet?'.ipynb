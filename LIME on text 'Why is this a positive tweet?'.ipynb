{
 "cells": [
  {
   "cell_type": "code",
   "execution_count": null,
   "metadata": {},
   "outputs": [],
   "source": [
    "%load_ext autoreload\n",
    "%autoreload 2 \n",
    "\n",
    "import os\n",
    "os.environ[\"CUDA_VISIBLE_DEVICES\"] = \"2\"\n",
    "\n",
    "import pandas as pd\n",
    "from sklearn.externals import joblib\n",
    "from keras.models import load_model\n",
    "import eli5\n",
    "from eli5.lime import TextExplainer\n",
    "from ipywidgets import interact\n",
    "\n",
    "from twitter_sentiment.preprocessing import tweet_train_test_split, TweetPreprocessor\n",
    "from twitter_sentiment.model import TweetClassifier\n",
    "from twitter_sentiment.inference import TweetPredictor\n",
    "\n",
    "\n",
    "PREP_FILEPATH = '/mnt/ml-team/minerva/unblackboxing_webinar/tweet_preprocessor.pkl'\n",
    "CONV_MODEL_FILEPATH = '/mnt/ml-team/minerva/unblackboxing_webinar/tweetnetConv1D.h5'\n",
    "LSTM_MODEL_FILEPATH = '/mnt/ml-team/minerva/unblackboxing_webinar/tweetnetLSTM.h5'\n",
    "ATTENTION_MODEL_FILEPATH = '/mnt/ml-team/minerva/unblackboxing_webinar/tweetnetAttention36.h5'"
   ]
  },
  {
   "cell_type": "code",
   "execution_count": null,
   "metadata": {},
   "outputs": [],
   "source": [
    "import pandas as pd\n",
    "filepath = '/mnt/ml-team/minerva/unblackboxing_webinar/Sentiment Analysis Dataset.csv'\n",
    "tweets = pd.read_csv(filepath, error_bad_lines=False)\n",
    "tweets.head()"
   ]
  },
  {
   "cell_type": "code",
   "execution_count": null,
   "metadata": {},
   "outputs": [],
   "source": [
    "model_filepath = ATTENTION_MODEL_FILEPATH\n",
    "tweet_preprocessor = joblib.load(PREP_FILEPATH)\n",
    "tweet_classifier = load_model(model_filepath)\n",
    "tweet_predictor = TweetPredictor(tweet_preprocessor, tweet_classifier)"
   ]
  },
  {
   "cell_type": "code",
   "execution_count": null,
   "metadata": {},
   "outputs": [],
   "source": [
    "def print_proba(text):\n",
    "    return tweet_predictor.predict_proba([text])\n",
    "interact(print_proba, text='really cool text');"
   ]
  },
  {
   "cell_type": "code",
   "execution_count": null,
   "metadata": {},
   "outputs": [],
   "source": [
    "text = 'I absolutely love this tech talk but'\n",
    "tweet_predictor.predict_proba([text])"
   ]
  },
  {
   "cell_type": "code",
   "execution_count": null,
   "metadata": {
    "scrolled": true
   },
   "outputs": [],
   "source": [
    "te = TextExplainer()\n",
    "te.fit(text, tweet_predictor.predict_proba);"
   ]
  },
  {
   "cell_type": "code",
   "execution_count": null,
   "metadata": {
    "scrolled": true
   },
   "outputs": [],
   "source": [
    "te.show_prediction(target_names=['negative','positive'])"
   ]
  },
  {
   "cell_type": "code",
   "execution_count": null,
   "metadata": {},
   "outputs": [],
   "source": [
    "te.show_weights()"
   ]
  },
  {
   "cell_type": "markdown",
   "metadata": {},
   "source": [
    "# Resources\n",
    "http://eli5.readthedocs.io/en/latest/tutorials/black-box-text-classifiers.html\n",
    "\n",
    "http://parrotprediction.com/105-python-libraries-for-data-analysis-nobody-told-you-about/"
   ]
  },
  {
   "cell_type": "code",
   "execution_count": null,
   "metadata": {},
   "outputs": [],
   "source": []
  }
 ],
 "metadata": {
  "kernelspec": {
   "display_name": "dl_py3",
   "language": "python",
   "name": "dl_py3"
  },
  "language_info": {
   "codemirror_mode": {
    "name": "ipython",
    "version": 3
   },
   "file_extension": ".py",
   "mimetype": "text/x-python",
   "name": "python",
   "nbconvert_exporter": "python",
   "pygments_lexer": "ipython3",
   "version": "3.5.2"
  }
 },
 "nbformat": 4,
 "nbformat_minor": 2
}
