{
 "cells": [
  {
   "cell_type": "code",
   "execution_count": null,
   "metadata": {},
   "outputs": [],
   "source": [
    "%load_ext autoreload\n",
    "%autoreload 2\n",
    "\n",
    "import os\n",
    "os.environ[\"CUDA_DEVICE_ORDER\"] = \"PCI_BUS_ID\"\n",
    "os.environ[\"CUDA_VISIBLE_DEVICES\"] = \"1\"\n",
    "\n",
    "from keras.applications.vgg16 import VGG16\n",
    "from keras.models import load_model\n",
    "\n",
    "from unboxer.deepvis import DeepVis\n",
    "from unboxer.utils import prep_model_for_vis\n",
    "from unboxer.imagenet_labels import IMAGENET_LABELS"
   ]
  },
  {
   "cell_type": "code",
   "execution_count": null,
   "metadata": {},
   "outputs": [],
   "source": [
    "model = VGG16(weights='imagenet', include_top=True)\n",
    "model = prep_model_for_vis(model)"
   ]
  },
  {
   "cell_type": "code",
   "execution_count": null,
   "metadata": {},
   "outputs": [],
   "source": [
    "deep_vis = DeepVis(model=model,\n",
    "                   save_dir='/mnt/ml-team/homes/jakub.czakon/.unblackboxing_webinar_data/data/filter_images')"
   ]
  },
  {
   "cell_type": "code",
   "execution_count": null,
   "metadata": {},
   "outputs": [],
   "source": [
    "conv_layer_ids = [22]"
   ]
  },
  {
   "cell_type": "code",
   "execution_count": null,
   "metadata": {},
   "outputs": [],
   "source": [
    "deep_vis.generate_max_activation_images(conv_layer_ids)"
   ]
  },
  {
   "cell_type": "code",
   "execution_count": null,
   "metadata": {},
   "outputs": [],
   "source": [
    "deep_vis.browse(figsize=(20,10), labels=IMAGENET_LABELS);"
   ]
  },
  {
   "cell_type": "code",
   "execution_count": null,
   "metadata": {},
   "outputs": [],
   "source": [
    "deep_vis.browse_layer();"
   ]
  },
  {
   "cell_type": "code",
   "execution_count": null,
   "metadata": {},
   "outputs": [],
   "source": [
    "FACENET_FILEPATH = '/mnt/ml-team/homes/jakub.czakon/.unblackboxing_webinar_data/models/facenet.h5'\n",
    "model = load_model(FACENET_FILEPATH)\n",
    "model = prep_model_for_vis(model)"
   ]
  },
  {
   "cell_type": "code",
   "execution_count": null,
   "metadata": {},
   "outputs": [],
   "source": [
    "deep_vis = DeepVis(model=model,\n",
    "                   save_dir='/mnt/ml-team/homes/jakub.czakon/.unblackboxing_webinar_data/data/filter_images_faces')\n",
    "\n",
    "deep_vis.generate_max_activation_images(18)"
   ]
  },
  {
   "cell_type": "code",
   "execution_count": null,
   "metadata": {},
   "outputs": [],
   "source": [
    "deep_vis.browse();"
   ]
  }
 ],
 "metadata": {
  "kernelspec": {
   "display_name": "py2 for deep learning",
   "language": "python",
   "name": "dl_py2"
  },
  "language_info": {
   "codemirror_mode": {
    "name": "ipython",
    "version": 2
   },
   "file_extension": ".py",
   "mimetype": "text/x-python",
   "name": "python",
   "nbconvert_exporter": "python",
   "pygments_lexer": "ipython2",
   "version": "2.7.12"
  },
  "widgets": {
   "state": {
    "81a0dd32ae104d038b50db042dd2974d": {
     "views": [
      {
       "cell_index": 5
      }
     ]
    },
    "c97ba625e1494b81b341adfa3b01d53e": {
     "views": [
      {
       "cell_index": 6
      }
     ]
    }
   },
   "version": "1.2.0"
  }
 },
 "nbformat": 4,
 "nbformat_minor": 2
}
